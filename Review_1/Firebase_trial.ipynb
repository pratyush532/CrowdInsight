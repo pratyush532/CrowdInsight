{
  "nbformat": 4,
  "nbformat_minor": 0,
  "metadata": {
    "colab": {
      "provenance": []
    },
    "kernelspec": {
      "name": "python3",
      "display_name": "Python 3"
    },
    "language_info": {
      "name": "python"
    }
  },
  "cells": [
    {
      "cell_type": "code",
      "execution_count": null,
      "metadata": {
        "id": "C3motBIQgrc0"
      },
      "outputs": [],
      "source": [
        "import firebase_admin\n",
        "from firebase_admin import credentials, db"
      ]
    },
    {
      "cell_type": "code",
      "source": [
        "cred = credentials.Certificate('credentials.json')\n",
        "firebase_admin.initialize_app(cred, {\n",
        "    'databaseURL': 'https://app-demo-c12ea-default-rtdb.asia-southeast1.firebasedatabase.app/'\n",
        "})"
      ],
      "metadata": {
        "colab": {
          "base_uri": "https://localhost:8080/"
        },
        "id": "0D-1PHF1gy-A",
        "outputId": "4f007b85-ceda-4b75-e5c5-e90c5263f4f7"
      },
      "execution_count": null,
      "outputs": [
        {
          "output_type": "execute_result",
          "data": {
            "text/plain": [
              "<firebase_admin.App at 0x7976c53c6b90>"
            ]
          },
          "metadata": {},
          "execution_count": 2
        }
      ]
    },
    {
      "cell_type": "code",
      "source": [
        "ref=db.reference(\"/\")"
      ],
      "metadata": {
        "id": "e7rgEwjeg-we"
      },
      "execution_count": null,
      "outputs": []
    },
    {
      "cell_type": "code",
      "source": [
        "#retriving data from root node\n",
        "ref.get()"
      ],
      "metadata": {
        "colab": {
          "base_uri": "https://localhost:8080/"
        },
        "id": "hKSitLKjhF1e",
        "outputId": "2a28493d-9c5e-4dc3-9732-05d32665807f"
      },
      "execution_count": null,
      "outputs": [
        {
          "output_type": "execute_result",
          "data": {
            "text/plain": [
              "{'count': 5, 'title': {'java': '', 'python': '2'}, 'videos': 5}"
            ]
          },
          "metadata": {},
          "execution_count": 4
        }
      ]
    },
    {
      "cell_type": "code",
      "source": [
        "db.reference(\"/name\").get()"
      ],
      "metadata": {
        "id": "Fy5j3-2AhG-m"
      },
      "execution_count": null,
      "outputs": []
    },
    {
      "cell_type": "code",
      "source": [
        "#set operation\n",
        "db.reference(\"/videos\").set(3)\n",
        "ref.get()"
      ],
      "metadata": {
        "colab": {
          "base_uri": "https://localhost:8080/"
        },
        "id": "M12LSXPdhMAm",
        "outputId": "ed7da6a0-ba89-43e1-a12d-ead82298d599"
      },
      "execution_count": null,
      "outputs": [
        {
          "output_type": "execute_result",
          "data": {
            "text/plain": [
              "{'count': 5, 'title': {'java': '', 'python': '2'}, 'videos': 3}"
            ]
          },
          "metadata": {},
          "execution_count": 6
        }
      ]
    },
    {
      "cell_type": "code",
      "source": [
        "#update operation\n",
        "db.reference(\"/\").update({\"count\":\"python\"})\n",
        "ref.get()"
      ],
      "metadata": {
        "colab": {
          "base_uri": "https://localhost:8080/"
        },
        "id": "-SK6cLKqhTum",
        "outputId": "5283355b-9bb0-406c-e8f5-97a3c7c2a947"
      },
      "execution_count": null,
      "outputs": [
        {
          "output_type": "execute_result",
          "data": {
            "text/plain": [
              "{'count': 'python', 'title': {'java': '', 'python': '2'}, 'videos': 3}"
            ]
          },
          "metadata": {},
          "execution_count": 10
        }
      ]
    },
    {
      "cell_type": "code",
      "source": [
        "#add new key value to the data\n",
        "db.reference(\"/\").update({\"new_variable\":\"added\"})\n",
        "ref.get()"
      ],
      "metadata": {
        "colab": {
          "base_uri": "https://localhost:8080/"
        },
        "id": "kfffYt32iDbh",
        "outputId": "bf9ca8a8-ff62-4382-83b8-b00a9c956c9b"
      },
      "execution_count": null,
      "outputs": [
        {
          "output_type": "execute_result",
          "data": {
            "text/plain": [
              "{'count': 'python',\n",
              " 'new_variable': 'added',\n",
              " 'title': {'java': '', 'python': '2'},\n",
              " 'videos': 3}"
            ]
          },
          "metadata": {},
          "execution_count": 11
        }
      ]
    },
    {
      "cell_type": "code",
      "source": [],
      "metadata": {
        "id": "BoOMYV-EoRHA"
      },
      "execution_count": null,
      "outputs": []
    }
  ]
}